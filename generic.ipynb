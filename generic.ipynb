{
 "cells": [
  {
   "cell_type": "code",
   "execution_count": 10,
   "metadata": {},
   "outputs": [],
   "source": [
    "from typing import Optional\n",
    "from typing import Literal\n",
    "\n",
    "# The Stack Class\n",
    "class Stack[T]:\n",
    "    def __init__(self) -> None:\n",
    "        self._container: list[T] = []\n",
    "\n",
    "    def __str__(self) -> str:\n",
    "        return str(self._container)\n",
    "\n",
    "    def push(self, item: T) -> None:\n",
    "        self._container.append(item)\n",
    "\n",
    "    def pop(self) -> T:\n",
    "        return self._container.pop()\n",
    "\n",
    "    def peek(self) -> Optional[T]:\n",
    "        if self.is_empty():\n",
    "            return None\n",
    "        return self._container[-1]\n",
    "\n",
    "    def is_empty(self) -> bool:\n",
    "        return self._container == []\n",
    "\n",
    "    def size(self) -> int:\n",
    "        return len(self._container)\n",
    "\n",
    "\n",
    "# Numeric Stack Class    \n",
    "class NumericStack[T: (int, float)](Stack[T]):\n",
    "    def __getitem__(self, index: int) -> T:\n",
    "        return self._container[index]\n",
    "\n",
    "    def __setitem__(self, index: int, value: T) -> None:\n",
    "        if 0 <= index < len(self._container):\n",
    "            self._container[index] = value\n",
    "        else:\n",
    "            raise IndexError(\"Stack index out of range\")\n",
    "\n",
    "    def sum(self) -> T | Literal[0]:\n",
    "        return sum(self._container)\n",
    "\n",
    "    def average(self) -> float:\n",
    "        if self.is_empty():\n",
    "            return 0\n",
    "\n",
    "        total: T | Literal[0] = self.sum()\n",
    "\n",
    "        return total / self.size()\n",
    "\n",
    "    def max(self) -> T | None:\n",
    "        if self.is_empty():\n",
    "            return None\n",
    "        return max(self._container)\n",
    "\n",
    "    def min(self) -> T | None:\n",
    "        if self.is_empty():\n",
    "            return None\n",
    "        return min(self._container)    "
   ]
  },
  {
   "cell_type": "markdown",
   "metadata": {},
   "source": [
    "## Use Stack directly"
   ]
  },
  {
   "cell_type": "code",
   "execution_count": 11,
   "metadata": {},
   "outputs": [
    {
     "name": "stdout",
     "output_type": "stream",
     "text": [
      "['apple', 'banana', 'cherry']\n"
     ]
    }
   ],
   "source": [
    "# Create a Stack instance with string type\n",
    "fruits = Stack[str]()\n",
    "\n",
    "# Push some string items onto the stack\n",
    "fruits.push(\"apple\")\n",
    "fruits.push(\"banana\")\n",
    "fruits.push(\"cherry\")\n",
    "\n",
    "# Print the stack\n",
    "print(fruits)  # Output: ['apple', 'banana', 'cherry']\n"
   ]
  },
  {
   "cell_type": "markdown",
   "metadata": {},
   "source": [
    "## Use NumericStack"
   ]
  },
  {
   "cell_type": "code",
   "execution_count": 12,
   "metadata": {},
   "outputs": [
    {
     "name": "stdout",
     "output_type": "stream",
     "text": [
      "10.5\n",
      "61.5\n",
      "20.5\n"
     ]
    }
   ],
   "source": [
    "# Create a NumericStack instance with float type\n",
    "temperatures = NumericStack[float]()\n",
    "\n",
    "# Push some float items onto the stack\n",
    "temperatures.push(10.5)\n",
    "temperatures.push(20.8)\n",
    "temperatures.push(30.2)\n",
    "\n",
    "# Print first element\n",
    "print(temperatures[0])\n",
    "\n",
    "# Print the sum of the items on the stack\n",
    "print(temperatures.sum())  # Output: 61.5\n",
    "\n",
    "# Print the average of the items on the stack\n",
    "print(temperatures.average())  # Output: 20.5"
   ]
  },
  {
   "cell_type": "markdown",
   "metadata": {},
   "source": [
    "## Transaction History Implementation"
   ]
  },
  {
   "cell_type": "code",
   "execution_count": 13,
   "metadata": {},
   "outputs": [],
   "source": [
    "from datetime import datetime\n",
    "from dataclasses import dataclass\n",
    "from enum import Enum, auto\n",
    "\n",
    "class TransactionType(Enum):\n",
    "    DEPOSIT = auto()\n",
    "    WITHDRAWAL = auto()\n",
    "    TRANSFER = auto()\n",
    "\n",
    "@dataclass\n",
    "class Transaction:\n",
    "    amount: float\n",
    "    timestamp: datetime\n",
    "    type: TransactionType\n",
    "    description: str\n",
    "\n",
    "    def __str__(self) -> str:\n",
    "        return f\"{self.type.name}: ${self.amount:.2f} - {self.description} ({self.timestamp.strftime('%Y-%m-%d %H:%M:%S')})\"\n",
    "    \n",
    "    # Add arithmetic support methods\n",
    "    def __add__(self, other: 'Transaction') -> float:\n",
    "        return self.amount + other.amount\n",
    "    \n",
    "    def __radd__(self, other: float) -> float:\n",
    "        # Support for sum() function which starts with 0\n",
    "        if other == 0:\n",
    "            return self.amount\n",
    "        return other + self.amount\n",
    "    \n",
    "    def __sub__(self, other: 'Transaction') -> float:\n",
    "        return self.amount - other.amount\n",
    "    \n",
    "    def __rsub__(self, other: float) -> float:\n",
    "        return other - self.amount\n",
    "    \n",
    "    def __mul__(self, other: float) -> float:\n",
    "        return self.amount * other\n",
    "    \n",
    "    def __rmul__(self, other: float) -> float:\n",
    "        return other * self.amount \n",
    "       \n",
    "    def __truediv__(self, other: float) -> float:\n",
    "        return self.amount / other\n",
    "    \n",
    "    def __lt__(self, other: 'Transaction') -> bool:\n",
    "        return self.amount < other.amount\n",
    "    \n",
    "    def __gt__(self, other: 'Transaction') -> bool:\n",
    "        return self.amount > other.amount\n"
   ]
  },
  {
   "cell_type": "code",
   "execution_count": 14,
   "metadata": {},
   "outputs": [
    {
     "name": "stdout",
     "output_type": "stream",
     "text": [
      "Transaction History:\n",
      "--------------------------------------------------\n",
      "DEPOSIT: $100.00 - Initial deposit (2025-03-09 23:40:06)\n",
      "WITHDRAWAL: $50.00 - ATM withdrawal (2025-03-09 23:40:06)\n",
      "DEPOSIT: $75.00 - Salary deposit (2025-03-09 23:40:06)\n",
      "--------------------------------------------------\n",
      "Total amount: $225.00\n",
      "Average transaction: $75.00\n",
      "Largest transaction: DEPOSIT: $100.00 - Initial deposit (2025-03-09 23:40:06)\n",
      "Smallest transaction: WITHDRAWAL: $50.00 - ATM withdrawal (2025-03-09 23:40:06)\n"
     ]
    }
   ],
   "source": [
    "# Example usage:\n",
    "def main():\n",
    "    # Create a transaction history stack\n",
    "    transaction_history = NumericStack[Transaction]()\n",
    "    \n",
    "    # Create sample transactions\n",
    "    transactions = [\n",
    "        Transaction(\n",
    "            amount=100.0,\n",
    "            timestamp=datetime.now(),\n",
    "            type=TransactionType.DEPOSIT,\n",
    "            description=\"Initial deposit\"\n",
    "        ),\n",
    "        Transaction(\n",
    "            amount=50.0,\n",
    "            timestamp=datetime.now(),\n",
    "            type=TransactionType.WITHDRAWAL,\n",
    "            description=\"ATM withdrawal\"\n",
    "        ),\n",
    "        Transaction(\n",
    "            amount=75.0,\n",
    "            timestamp=datetime.now(),\n",
    "            type=TransactionType.DEPOSIT,\n",
    "            description=\"Salary deposit\"\n",
    "        )\n",
    "    ]\n",
    "    \n",
    "    # Add transactions to stack\n",
    "    for transaction in transactions:\n",
    "        transaction_history.push(transaction)\n",
    "    \n",
    "    # Demonstrate numeric operations\n",
    "    print(\"Transaction History:\")\n",
    "    print(\"-\" * 50)\n",
    "    for i in range(transaction_history.size()):\n",
    "        print(transaction_history[i])\n",
    "    print(\"-\" * 50)\n",
    "    print(f\"Total amount: ${transaction_history.sum():.2f}\")\n",
    "    print(f\"Average transaction: ${transaction_history.average():.2f}\")\n",
    "    print(f\"Largest transaction: {transaction_history.max()}\")\n",
    "    print(f\"Smallest transaction: {transaction_history.min()}\")\n",
    "\n",
    "if __name__ == \"__main__\":\n",
    "    main()"
   ]
  }
 ],
 "metadata": {
  "kernelspec": {
   "display_name": "Python 3",
   "language": "python",
   "name": "python3"
  },
  "language_info": {
   "codemirror_mode": {
    "name": "ipython",
    "version": 3
   },
   "file_extension": ".py",
   "mimetype": "text/x-python",
   "name": "python",
   "nbconvert_exporter": "python",
   "pygments_lexer": "ipython3",
   "version": "3.13.1"
  }
 },
 "nbformat": 4,
 "nbformat_minor": 2
}
