{
 "cells": [
  {
   "cell_type": "code",
   "execution_count": null,
   "metadata": {},
   "outputs": [],
   "source": [
    "fruits = [\"apple\", \"banana\", \"cherry\"]\n",
    "output = {fruit: index for index, fruit in enumerate(fruits)}\n",
    "\n",
    "print(output)"
   ]
  },
  {
   "cell_type": "code",
   "execution_count": null,
   "metadata": {},
   "outputs": [],
   "source": [
    "numbers = [10, *range(1, 11)]\n",
    "output = [x for x in numbers if x % 2 == 0]\n",
    "\n",
    "print(output)"
   ]
  },
  {
   "cell_type": "code",
   "execution_count": null,
   "metadata": {},
   "outputs": [],
   "source": [
    "d = {\"a\": 1, \"b\": 2, \"c\": 3, \"d\": 4}\n",
    "output = {k: v for k, v in d.items() if v % 2 == 0}\n",
    "\n",
    "print(output)"
   ]
  },
  {
   "cell_type": "code",
   "execution_count": null,
   "metadata": {},
   "outputs": [],
   "source": [
    "numbers = [1, 2, 3, 4, 5, 6, 7, 8, 9, 10]\n",
    "output = list(filter(lambda x: x % 2 == 0, numbers))\n",
    "\n",
    "print(output)"
   ]
  },
  {
   "cell_type": "code",
   "execution_count": null,
   "metadata": {},
   "outputs": [],
   "source": [
    "import json\n",
    "\n",
    "data = {\"name\": \"John\", \"age\": 30}\n",
    "x = json.dumps(data)\n",
    "y = json.loads(x)\n",
    "\n",
    "print(x)\n",
    "print(y)"
   ]
  },
  {
   "cell_type": "code",
   "execution_count": null,
   "metadata": {},
   "outputs": [],
   "source": [
    "import time\n",
    "\n",
    "def log_time(message):\n",
    "    def decorator(func):\n",
    "        \n",
    "        def wrapper(*args, **kwargs):\n",
    "            start_time = time.time()\n",
    "            result = func(*args, **kwargs)\n",
    "            \n",
    "            end_time = time.time()\n",
    "            print(f\"{message}: {func.__name__} took {end_time - start_time} seconds to run.\")\n",
    "            \n",
    "            return result\n",
    "        \n",
    "        return wrapper\n",
    "    \n",
    "    return decorator\n",
    "\n",
    "@log_time(\"Execution time\")\n",
    "def calculate_sum(n):\n",
    "    total = sum(range(1, n+1))\n",
    "    return total\n",
    "\n",
    "result = calculate_sum(1000000)\n",
    "print(f\"Result: {result}\")"
   ]
  },
  {
   "cell_type": "code",
   "execution_count": null,
   "metadata": {},
   "outputs": [],
   "source": [
    "def validate_input(min_value, max_value):\n",
    "    def decorator(func):\n",
    "        def wrapper(input_value):\n",
    "            if input_value < min_value or input_value > max_value:\n",
    "                raise ValueError(f\"Input value must be between {min_value} and {max_value}.\")\n",
    "            return func(input_value)\n",
    "        return wrapper\n",
    "    return decorator\n",
    "\n",
    "@validate_input(1, 10)\n",
    "def process_number(number):\n",
    "    # Process the number\n",
    "    return number * 2\n",
    "\n",
    "result = process_number(5)\n",
    "print(f\"Result: {result}\")"
   ]
  },
  {
   "cell_type": "code",
   "execution_count": 6,
   "metadata": {},
   "outputs": [
    {
     "ename": "ValueError",
     "evalue": "Input value must be between 1 and 10.",
     "output_type": "error",
     "traceback": [
      "\u001b[1;31m---------------------------------------------------------------------------\u001b[0m",
      "\u001b[1;31mValueError\u001b[0m                                Traceback (most recent call last)",
      "Cell \u001b[1;32mIn[6], line 15\u001b[0m\n\u001b[0;32m     10\u001b[0m \u001b[38;5;129m@validate_input\u001b[39m(\u001b[38;5;241m1\u001b[39m, \u001b[38;5;241m10\u001b[39m)\n\u001b[0;32m     11\u001b[0m \u001b[38;5;28;01mdef\u001b[39;00m \u001b[38;5;21mprocess_number\u001b[39m(number):\n\u001b[0;32m     12\u001b[0m     \u001b[38;5;66;03m# Process the number\u001b[39;00m\n\u001b[0;32m     13\u001b[0m     \u001b[38;5;28;01mreturn\u001b[39;00m number \u001b[38;5;241m*\u001b[39m \u001b[38;5;241m2\u001b[39m\n\u001b[1;32m---> 15\u001b[0m result \u001b[38;5;241m=\u001b[39m \u001b[43mprocess_number\u001b[49m\u001b[43m(\u001b[49m\u001b[38;5;241;43m55\u001b[39;49m\u001b[43m)\u001b[49m\n\u001b[0;32m     16\u001b[0m \u001b[38;5;28mprint\u001b[39m(\u001b[38;5;124mf\u001b[39m\u001b[38;5;124m\"\u001b[39m\u001b[38;5;124mResult: \u001b[39m\u001b[38;5;132;01m{\u001b[39;00mresult\u001b[38;5;132;01m}\u001b[39;00m\u001b[38;5;124m\"\u001b[39m)\n",
      "Cell \u001b[1;32mIn[6], line 5\u001b[0m, in \u001b[0;36mvalidate_input.<locals>.decorator.<locals>.wrapper\u001b[1;34m(input_value)\u001b[0m\n\u001b[0;32m      3\u001b[0m \u001b[38;5;28;01mdef\u001b[39;00m \u001b[38;5;21mwrapper\u001b[39m(input_value):\n\u001b[0;32m      4\u001b[0m     \u001b[38;5;28;01mif\u001b[39;00m input_value \u001b[38;5;241m<\u001b[39m min_value \u001b[38;5;129;01mor\u001b[39;00m input_value \u001b[38;5;241m>\u001b[39m max_value:\n\u001b[1;32m----> 5\u001b[0m         \u001b[38;5;28;01mraise\u001b[39;00m \u001b[38;5;167;01mValueError\u001b[39;00m(\u001b[38;5;124mf\u001b[39m\u001b[38;5;124m\"\u001b[39m\u001b[38;5;124mInput value must be between \u001b[39m\u001b[38;5;132;01m{\u001b[39;00mmin_value\u001b[38;5;132;01m}\u001b[39;00m\u001b[38;5;124m and \u001b[39m\u001b[38;5;132;01m{\u001b[39;00mmax_value\u001b[38;5;132;01m}\u001b[39;00m\u001b[38;5;124m.\u001b[39m\u001b[38;5;124m\"\u001b[39m)\n\u001b[0;32m      6\u001b[0m     \u001b[38;5;28;01mreturn\u001b[39;00m func(input_value)\n",
      "\u001b[1;31mValueError\u001b[0m: Input value must be between 1 and 10."
     ]
    }
   ],
   "source": [
    "def validate_input(min_value, max_value):\n",
    "    def decorator(func):\n",
    "        def wrapper(input_value):\n",
    "            if input_value < min_value or input_value > max_value:\n",
    "                raise ValueError(f\"Input value must be between {min_value} and {max_value}.\")\n",
    "            return func(input_value)\n",
    "        return wrapper\n",
    "    return decorator\n",
    "\n",
    "@validate_input(1, 10)\n",
    "def process_number(number):\n",
    "    # Process the number\n",
    "    return number * 2\n",
    "\n",
    "result = process_number(5)\n",
    "print(f\"Result: {result}\")"
   ]
  }
 ],
 "metadata": {
  "kernelspec": {
   "display_name": "Python 3",
   "language": "python",
   "name": "python3"
  },
  "language_info": {
   "codemirror_mode": {
    "name": "ipython",
    "version": 3
   },
   "file_extension": ".py",
   "mimetype": "text/x-python",
   "name": "python",
   "nbconvert_exporter": "python",
   "pygments_lexer": "ipython3",
   "version": "3.11.9"
  }
 },
 "nbformat": 4,
 "nbformat_minor": 2
}
