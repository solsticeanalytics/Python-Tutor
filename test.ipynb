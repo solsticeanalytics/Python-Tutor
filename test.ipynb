{
 "cells": [
  {
   "cell_type": "code",
   "execution_count": null,
   "metadata": {},
   "outputs": [],
   "source": [
    "fruits = [\"apple\", \"banana\", \"cherry\"]\n",
    "output = {fruit: index for index, fruit in enumerate(fruits)}\n",
    "\n",
    "print(output)"
   ]
  },
  {
   "cell_type": "code",
   "execution_count": null,
   "metadata": {},
   "outputs": [],
   "source": [
    "numbers = [10, *range(1, 11)]\n",
    "output = [x for x in numbers if x % 2 == 0]\n",
    "\n",
    "print(output)"
   ]
  },
  {
   "cell_type": "code",
   "execution_count": null,
   "metadata": {},
   "outputs": [],
   "source": [
    "my_list = [1, 2, 3, 4, 5]\n",
    "\n",
    "print(my_list[:3])  # Output: [1, 2, 3]\n",
    "print(my_list[2:])  # Output: [3, 4, 5]\n",
    "print(my_list[1:4])  # Output: [2, 3, 4]"
   ]
  },
  {
   "cell_type": "code",
   "execution_count": null,
   "metadata": {},
   "outputs": [],
   "source": [
    "d = {\"a\": 1, \"b\": 2, \"c\": 3, \"d\": 4}\n",
    "output = {k: v for k, v in d.items() if v % 2 == 0}\n",
    "\n",
    "print(output)"
   ]
  },
  {
   "cell_type": "code",
   "execution_count": null,
   "metadata": {},
   "outputs": [],
   "source": [
    "def print_info(**kwargs):\n",
    "    for key, value in kwargs.items():\n",
    "        print(f\"{key}: {value}\")\n",
    "\n",
    "print_info(name=\"Alice\", age=30, city=\"New York\")"
   ]
  },
  {
   "cell_type": "code",
   "execution_count": null,
   "metadata": {},
   "outputs": [],
   "source": [
    "def print_sum(*args):\n",
    "    total = sum(args)\n",
    "    print(f\"The sum is: {total}\")\n",
    "\n",
    "print_sum(1, 2, 3, 4, 5)  # Output: The sum is: 15"
   ]
  },
  {
   "cell_type": "code",
   "execution_count": null,
   "metadata": {},
   "outputs": [],
   "source": [
    "numbers = [1, 2, 3, 4, 5, 6, 7, 8, 9, 10]\n",
    "output = list(filter(lambda x: x % 2 == 0, numbers))\n",
    "\n",
    "print(output)"
   ]
  },
  {
   "cell_type": "code",
   "execution_count": null,
   "metadata": {},
   "outputs": [],
   "source": [
    "import json\n",
    "\n",
    "data = {\"name\": \"John\", \"age\": 30}\n",
    "x = json.dumps(data)\n",
    "y = json.loads(x)\n",
    "\n",
    "print(x)\n",
    "print(y)"
   ]
  },
  {
   "cell_type": "code",
   "execution_count": null,
   "metadata": {},
   "outputs": [],
   "source": [
    "import time\n",
    "\n",
    "def log_time(message):\n",
    "    def decorator(func):\n",
    "        \n",
    "        def wrapper(*args, **kwargs):\n",
    "            start_time = time.time()\n",
    "            result = func(*args, **kwargs)\n",
    "            \n",
    "            end_time = time.time()\n",
    "            print(f\"{message}: {func.__name__} took {end_time - start_time} seconds to run.\")\n",
    "            \n",
    "            return result\n",
    "        \n",
    "        return wrapper\n",
    "    \n",
    "    return decorator\n",
    "\n",
    "@log_time(\"Execution time\")\n",
    "def calculate_sum(n):\n",
    "    total = sum(range(1, n+1))\n",
    "    return total\n",
    "\n",
    "result = calculate_sum(1000000)\n",
    "print(f\"Result: {result}\")"
   ]
  },
  {
   "cell_type": "code",
   "execution_count": null,
   "metadata": {},
   "outputs": [],
   "source": [
    "def validate_input(min_value, max_value):\n",
    "    def decorator(func):\n",
    "        def wrapper(input_value):\n",
    "            if input_value < min_value or input_value > max_value:\n",
    "                raise ValueError(f\"Input value must be between {min_value} and {max_value}.\")\n",
    "            return func(input_value)\n",
    "        return wrapper\n",
    "    return decorator\n",
    "\n",
    "@validate_input(1, 10)\n",
    "def process_number(number):\n",
    "    # Process the number\n",
    "    return number * 2\n",
    "\n",
    "result = process_number(5)\n",
    "print(f\"Result: {result}\")"
   ]
  }
 ],
 "metadata": {
  "kernelspec": {
   "display_name": "Python 3",
   "language": "python",
   "name": "python3"
  },
  "language_info": {
   "codemirror_mode": {
    "name": "ipython",
    "version": 3
   },
   "file_extension": ".py",
   "mimetype": "text/x-python",
   "name": "python",
   "nbconvert_exporter": "python",
   "pygments_lexer": "ipython3",
   "version": "3.11.9"
  }
 },
 "nbformat": 4,
 "nbformat_minor": 2
}
