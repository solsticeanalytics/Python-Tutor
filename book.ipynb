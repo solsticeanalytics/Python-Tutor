{
 "cells": [
  {
   "cell_type": "code",
   "execution_count": null,
   "metadata": {},
   "outputs": [],
   "source": [
    "class Book:\n",
    "    _count = 0\n",
    "\n",
    "    def __init__(self, title, author):\n",
    "        self.title = title\n",
    "        self.author = author\n",
    "        Book._count += 1\n",
    "\n",
    "    @classmethod\n",
    "    def get_count(cls):\n",
    "        return cls._count\n",
    "\n",
    "    def __or__(self, other):\n",
    "        if isinstance(other, Book):\n",
    "            return [self, other]\n",
    "        if isinstance(other, list):\n",
    "            return other + [self]\n",
    "        else:\n",
    "            raise TypeError(\"Unsupported operand type for |\")\n",
    "\n",
    "    def __repr__(self):\n",
    "        return f\"{self.title} by {self.author}\"\n",
    "\n",
    "\n",
    "if __name__ == \"__main__\":\n",
    "    book1 = Book(\"To Kill a Mockingbird\", \"Harper Lee\")\n",
    "    book2 = Book(\"1984\", \"George Orwell\")\n",
    "    book3 = Book(\"The Great Gatsby\", \"F. Scott Fitzgerald\")\n",
    "\n",
    "    books = book3 | (book1 | book2)\n",
    "\n",
    "    print(Book.get_count())\n",
    "    print(*books, sep='\\n')"
   ]
  }
 ],
 "metadata": {
  "kernelspec": {
   "display_name": "Python 3",
   "language": "python",
   "name": "python3"
  },
  "language_info": {
   "codemirror_mode": {
    "name": "ipython",
    "version": 3
   },
   "file_extension": ".py",
   "mimetype": "text/x-python",
   "name": "python",
   "nbconvert_exporter": "python",
   "pygments_lexer": "ipython3",
   "version": "3.11.9"
  }
 },
 "nbformat": 4,
 "nbformat_minor": 2
}
